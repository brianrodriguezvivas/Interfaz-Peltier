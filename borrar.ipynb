{
 "cells": [
  {
   "cell_type": "code",
   "execution_count": 1,
   "metadata": {},
   "outputs": [
    {
     "name": "stdout",
     "output_type": "stream",
     "text": [
      "   A  B  A  B   C   D   C   D\n",
      "0  1  3  5  7   9  11  13  15\n",
      "1  2  4  6  8  10  12  14  16\n"
     ]
    }
   ],
   "source": [
    "import pandas as pd\n",
    "\n",
    "# Supongamos que tienes estas listas de DataFrames\n",
    "lista_df1 = [pd.DataFrame({'A': [1, 2], 'B': [3, 4]}),\n",
    "             pd.DataFrame({'A': [5, 6], 'B': [7, 8]})]\n",
    "lista_df2 = [pd.DataFrame({'C': [9, 10], 'D': [11, 12]}),\n",
    "             pd.DataFrame({'C': [13, 14], 'D': [15, 16]})]\n",
    "\n",
    "# Concatenas las listas\n",
    "lista_concatenada = lista_df1 + lista_df2\n",
    "\n",
    "# Ahora, lista_concatenada contiene todos los DataFrames de las dos listas originales concatenadas en una sola lista\n",
    "\n",
    "# Concatenas todos los DataFrames en uno solo\n",
    "df_concatenado = pd.concat(lista_concatenada, axis=1)\n",
    "\n",
    "# Ahora, df_concatenado contiene la concatenación de todos los DataFrames en una sola estructura de datos\n",
    "\n",
    "print(df_concatenado)\n"
   ]
  }
 ],
 "metadata": {
  "kernelspec": {
   "display_name": "Python 3",
   "language": "python",
   "name": "python3"
  },
  "language_info": {
   "codemirror_mode": {
    "name": "ipython",
    "version": 3
   },
   "file_extension": ".py",
   "mimetype": "text/x-python",
   "name": "python",
   "nbconvert_exporter": "python",
   "pygments_lexer": "ipython3",
   "version": "3.11.5"
  }
 },
 "nbformat": 4,
 "nbformat_minor": 2
}
